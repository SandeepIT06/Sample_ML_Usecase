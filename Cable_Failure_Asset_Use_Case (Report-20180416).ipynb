{
 "cells": [
  {
   "cell_type": "code",
   "execution_count": 16,
   "metadata": {},
   "outputs": [
    {
     "name": "stdout",
     "output_type": "stream",
     "text": [
      "This button will toggle the underlying code used in each and every step.\n"
     ]
    },
    {
     "data": {
      "text/html": [
       "<button onclick=\"jQuery('.input_area').toggle(); jQuery('.prompt').toggle();\">Toggle code</button>"
      ]
     },
     "metadata": {},
     "output_type": "display_data"
    }
   ],
   "source": [
    "from IPython.display import HTML\t\t\t\t\t\t\t\t# Allow HTML editing\n",
    "from IPython.display import display, Math, Latex\t\t\t\t# Allow Latex editing\n",
    "import IPython.core.display as di\t\t\t\t\t\t\t\t# Allow toggle function of code-blocks\n",
    "\n",
    "# Toggle solution by Max Masnick\n",
    "# Source: http://protips.maxmasnick.com/hide-code-when-sharing-ipython-notebooks\n",
    "# This line will hide code by default when the notebook is exported as HTML \n",
    "# di.display_html('<script>jQuery(function() {if (jQuery(\"body.notebook_app\").length == 0) { jQuery(\".input_area\").toggle(); jQuery(\".prompt\").toggle();}});</script>', raw=True)\n",
    "# This line will add a button to toggle visibility of code blocks, for use with the HTML export version\n",
    "print('This button will toggle the underlying code used in each and every step.')\n",
    "di.display_html('''<button onclick=\"jQuery('.input_area').toggle(); jQuery('.prompt').toggle();\">Toggle code</button>''', raw=True)\n"
   ]
  },
  {
   "cell_type": "markdown",
   "metadata": {},
   "source": [
    "<h3>Project Name : Cable Failure (CF) </h3>\n",
    "\n",
    "<u> Scope </u> : Calculation of a Cable Score per OTE customer (Athens/Greece)\n",
    "\n",
    "\n"
   ]
  },
  {
   "cell_type": "markdown",
   "metadata": {},
   "source": [
    "<h1> <a id=\"initialize_use_case_asset\"></a>Initialize use case asset</h1>"
   ]
  },
  {
   "cell_type": "markdown",
   "metadata": {},
   "source": [
    "The objective of this notebook is to use machine learning and data analysis techniques in order to predict customer behavior via network measurements and customer trouble tickets (CTT) is expected to provide findings in early cable failure detection. This notebook demostrates a  predictive modeling problem broken down according to CRISP-dm steps. CRISP-dm is an open standard process model that describes common approaches followed by data scientists. "
   ]
  },
  {
   "cell_type": "markdown",
   "metadata": {},
   "source": [
    "<h3> <a id=\"initialize_use_case_asset\"></a>Initialize use case asset</h3>\n",
    "\n",
    "<a href=\"#initialize_use_case_asset\">0 Initialize use case asset</a><br>\n",
    "<a href=\"#crisp_business_understanding\"> 1 Business Understanding </a><br>\n",
    "<a href=\"#crisp_data_understanding\"> 2 Data Understanding </a><br>\n",
    "<a href=\"#crisp_preparation\"> 3 Data Preparation </a><br>\n",
    "<a href=\"#crisp_modeling\"> 4 Modeling </a><br>\n",
    "<a href=\"#crisp_evaluation\"> 5 Evaluation </a><br>\n",
    "<a href=\"#crisp_deployment\"> 6 Deployment </a><br>"
   ]
  },
  {
   "cell_type": "markdown",
   "metadata": {},
   "source": [
    "<h2> <a id=\"Asset_Code_Parts\"></a>Asset Code Parts</h2>\n",
    "\n",
    "<a href=\"#Feature_Selection_Using_Correlation_Matrix\"> 1 Feature Selection Using Correlation Matrix </a><br>\n",
    "<a href=\"#Random_Forest _Classifier\"> 2 Random Forest Classifier </a><br>\n",
    "<a href=\"#Model_Evalulation_Confusion_Matrix\"> 3 Model Evalulation - Confusion Matrix</a><br>\n",
    "<a href=\"#Printing The Accuracy Metrics\"> 4 Printing The Accuracy Metrics</a><br>"
   ]
  },
  {
   "cell_type": "markdown",
   "metadata": {},
   "source": [
    "<h5>Load all the required libraries needed to run the cable failure usecase.</h5>"
   ]
  },
  {
   "cell_type": "code",
   "execution_count": 2,
   "metadata": {},
   "outputs": [
    {
     "name": "stdout",
     "output_type": "stream",
     "text": [
      "sklearn: 0.19.2\n",
      "pandas: 0.23.4\n",
      "pyspark: 2.3.2\n"
     ]
    }
   ],
   "source": [
    "import numpy as np\n",
    "import matplotlib.pyplot as plt\n",
    "import pandas as pd\n",
    "import itertools\n",
    "import seaborn as sns\n",
    "sns.set_style(\"white\")\n",
    "\n",
    "## Initiating Spark\n",
    "import findspark\n",
    "findspark.init()\n",
    "from pyspark import SparkContext\n",
    "from pyspark import SparkConf\n",
    "from pyspark.sql import SparkSession\n",
    "from pyspark.sql import SQLContext\n",
    "from pyspark.ml.classification import RandomForestClassifier\n",
    "from pyspark.ml.evaluation import MulticlassClassificationEvaluator\n",
    "from pyspark.mllib.evaluation import MulticlassMetrics\n",
    "from pyspark.sql import Row\n",
    "import pyspark.sql.functions as F\n",
    "from pyspark.sql.functions import udf\n",
    "\n",
    "import matplotlib.pyplot as plt\n",
    "import numpy as np\n",
    "%matplotlib inline\n",
    "pd.options.display.max_columns = 200\n",
    "\n",
    "import sys, sklearn, pyspark\n",
    "print(\"sklearn:\",sklearn.__version__) \n",
    "print(\"pandas:\",pd.__version__)\n",
    "print( \"pyspark:\",pyspark.__version__)"
   ]
  },
  {
   "cell_type": "markdown",
   "metadata": {},
   "source": [
    "<h1><a id=\"crisp_business_understanding\"></a>Business Understanding</h1>\n",
    "<a href=\"#initialize_use_case_asset\"> 0 Initialize Use Case Asset</a> |\n",
    "<b>1 Business Understanding</b> |\n",
    "<a href=\"#crisp_data_understanding\"> 2 Data Understanding </a>|\n",
    "<a href=\"#crisp_preparation\"> 3 Data Preparation </a>|\n",
    "<a href=\"#crisp_modeling\"> 4 Modeling </a>|\n",
    "<a href=\"#crisp_evaluation\"> 5 Evaluation </a>|\n",
    "<a href=\"#crisp_deployment\"> 6 Deployment </a>"
   ]
  },
  {
   "cell_type": "markdown",
   "metadata": {},
   "source": [
    "# [Data_Part](#Heading-Here)"
   ]
  },
  {
   "cell_type": "code",
   "execution_count": 3,
   "metadata": {},
   "outputs": [],
   "source": [
    "# function to plot confusion matrix\n",
    "def plot_confusion_matrix(cm, classes,\n",
    "                          normalize=False,\n",
    "                          title='Confusion matrix',\n",
    "                          cmap=plt.cm.Blues):\n",
    "    \"\"\"\n",
    "    This function prints and plots the confusion matrix.\n",
    "    Normalization can be applied by setting `normalize=True`.\n",
    "    \"\"\"\n",
    "    if normalize:\n",
    "        cm = cm.astype('float') / cm.sum(axis=1)[:, np.newaxis]\n",
    "        print(\"Normalized confusion matrix\")\n",
    "    else:\n",
    "        print('Confusion matrix, without normalization')\n",
    "\n",
    "    print(cm)\n",
    "\n",
    "    plt.imshow(cm, interpolation='nearest', cmap=cmap)\n",
    "    plt.title(title)\n",
    "    plt.colorbar()\n",
    "    tick_marks = np.arange(len(classes))\n",
    "    plt.xticks(tick_marks, classes)\n",
    "    plt.yticks(tick_marks, classes)\n",
    "\n",
    "    fmt = '.2f' if normalize else 'd'\n",
    "    thresh = cm.max() / 2.\n",
    "    for i, j in itertools.product(range(cm.shape[0]), range(cm.shape[1])):\n",
    "        plt.text(j, i, format(cm[i, j], fmt),\n",
    "                 horizontalalignment=\"center\",\n",
    "                 color=\"white\" if cm[i, j] > thresh else \"black\")\n",
    "\n",
    "    \n",
    "    plt.ylabel('True label')\n",
    "    plt.xlabel('Predicted label')\n",
    "    plt.tight_layout()\n",
    "    \n",
    "\n",
    "def sparkinit_global():\n",
    "    spark = SparkSession.builder\\\n",
    "    .master(\"yarn\")\\\n",
    "    .config(\"spark.submit.deployMode\", \"client\")\\\n",
    "    .config(\"spark.eventLog.enabled\", \"true\")\\\n",
    "    .config('spark.sql.files.maxPartitionBytes', '134217728')\\\n",
    "    .config(\"spark.dynamicAllocation.enabled\", \"true\")\\\n",
    "    .config(\"spark.dynamicAllocation.executorIdleTimeout\", \"1500s\")\\\n",
    "    .config(\"spark.dynamicAllocation.initialExecutors\", \"53\")\\\n",
    "    .config(\"spark.executor.cores\", \"4\")\\\n",
    "    .config(\"spark.executor.memory\", \"8g\")\\\n",
    "    .config(\"spark.yarn.executor.memoryOverhead\", \"8g\")\\\n",
    "    .config(\"spark.driver.cores\", \"4\")\\\n",
    "    .config(\"spark.driver.memory\", \"8g\")\\\n",
    "    .config(\"spark.yarn.driver.memoryOverhead\", \"8g\")\\\n",
    "    .appName(\"FirstModel\")\\\n",
    "    .getOrCreate()\n",
    "\n",
    "    sc=spark.sparkContext\n",
    "    sqlContext = SQLContext(sc)\n",
    "\n",
    "\n"
   ]
  },
  {
   "cell_type": "markdown",
   "metadata": {},
   "source": [
    "<h3><a id=\"Printing The Accuracy Metrics\"></a>Printing The Accuracy Metrics</h3>\n",
    "\n",
    "<a href=\"#Asset_Code_Parts\"> Asset Code Parts </a> |\n",
    "<a href=\"#Feature_Selection_Using_Correlation_Matrix\"> 1 Feature Selection Using Correlation Matrix </a> |\n",
    "<a href=\"#Random_Forest _Classifier\"> 2 Random Forest Classifier </a> |\n",
    "<a href=\"#Model_Evalulation_Confusion_Matrix\"> 3 Model Evalulation - Confusion Matrix</a> |\n",
    "<b>4 Printing The Accuracy Metrics</b>"
   ]
  },
  {
   "cell_type": "code",
   "execution_count": 6,
   "metadata": {},
   "outputs": [],
   "source": [
    "def print_confmatrix (conf_matrix):\n",
    "    target_names = np.array(['no fault', 'fault'], dtype = '<U10')  # U is unicode string length 10\n",
    "    plot_confusion_matrix(conf_matrix, classes = target_names, normalize= True)\n",
    "    \n",
    "    # do the prints\n",
    "    print('Confusion matrix, without normalization')\n",
    "    print(conf_matrix)\n",
    "\n",
    "    TP = conf_matrix[1][1]\n",
    "    FP = conf_matrix[0][1]\n",
    "    TN = conf_matrix[0][0]\n",
    "    FN = conf_matrix[1][0]\n",
    "\n",
    "    TP=float(TP)\n",
    "    TN=float(TN)\n",
    "    FN=float(FN)\n",
    "    FP=float(FP)\n",
    "\n",
    "    precision = TP/(TP + FP)\n",
    "    recall = TP/(TP + FN)\n",
    "    accuracy = (TP + TN)/(TP + TN + FP + FN)\n",
    "\n",
    "    print(\"Accuracy = %g \" % (accuracy))\n",
    "    print(\"Precision = %g \" % (precision))\n",
    "    print(\"Recall = %g \" % (recall))\n",
    "    print(\"--------------------------------\")\n",
    "\n",
    "\n",
    "    \n",
    "# feature importance in random forest\n",
    "def feature_importance_fr(model, number, X):\n",
    "    # initiate an empty list to include feature names\n",
    "    yo = list()\n",
    "    # define how many features you want\n",
    "    how_many = number\n",
    "\n",
    "    importances = model.feature_importances_\n",
    "    std = np.std([tree.feature_importances_ for tree in model.estimators_],\n",
    "                 axis=0)\n",
    "    indices = np.argsort(importances)[::-1]\n",
    "\n",
    "    # Print the feature ranking\n",
    "    print(\"Feature ranking:\")\n",
    "\n",
    "    for f in range(how_many):\n",
    "        print(\"%d. feature %d: %s (%f)\" % (f + 1, indices[f], X.columns[indices[f]], importances[indices[f]]))\n",
    "        yo.append(X.columns[indices[f]])\n",
    "\n",
    "    # Plot the feature importances of the forest\n",
    "    plt.figure()\n",
    "    plt.title(\"Feature importances\")\n",
    "    plt.bar(range(how_many), importances[indices][:how_many],\n",
    "             align=\"center\")\n",
    "    plt.xticks(range(how_many), yo, rotation = 90)\n",
    "    plt.xlim([-1, how_many])\n",
    "#     plt.subplots_adjust(bottom=0.2)\n",
    "    plt.tight_layout()\n",
    "    plt.show()\n",
    "\n"
   ]
  },
  {
   "cell_type": "code",
   "execution_count": 7,
   "metadata": {},
   "outputs": [],
   "source": [
    "def predict_plots (model,testData,returnpara=False):\n",
    "    # make predictions\n",
    "    predictions = model.transform(testData)\n",
    "    metrics = MulticlassMetrics(predictions.select(\"prediction\", \"label1\").rdd)\n",
    "    conf_matrix = metrics.confusionMatrix().toArray()\n",
    "\n",
    "    print_confmatrix(conf_matrix)\n",
    "    if (returnpara): return predictions\n",
    "    return\n"
   ]
  },
  {
   "cell_type": "markdown",
   "metadata": {},
   "source": [
    "<h3><a id=\"Feature_Selection_Using_Correlation_Matrix\"></a>Feature Selection Using Correlation Matrix</h3>\n",
    "\n",
    "<a href=\"#Asset_Code_Parts\"> Asset Code Parts </a> |\n",
    "<b>1 Feature Selection Using Correlation Matrix</b> |\n",
    "<a href=\"#Random_Forest _Classifier\"> 2 Random Forest Classifier </a> |\n",
    "<a href=\"#Model_Evalulation_Confusion_Matrix\"> 3 Model Evalulation - Confusion Matrix</a> |\n",
    "<a href=\"#Printing The Accuracy Metrics\"> 4 Printing The Accuracy Metrics</a>"
   ]
  },
  {
   "cell_type": "code",
   "execution_count": 9,
   "metadata": {},
   "outputs": [],
   "source": [
    "#####################################################\n",
    "# calc correlation matrix\n",
    "#####################################################\n",
    "def correlation_matrix(df, columns):\n",
    "    # import module\n",
    "    from pyspark.ml.stat import Correlation\n",
    "\n",
    "    # Vector assembler\n",
    "    assembler = VectorAssembler(inputCols=columns, outputCol=\"features\")\n",
    "    assembled = assembler.transform(df)\n",
    "    selected_features = assembled.select(\"features\")\n",
    "\n",
    "    # compute correlation matrix\n",
    "    r = Correlation.corr(selected_features, \"features\").head()\n",
    "\n",
    "    # transform dense matrix to array in order to finally transform it to Pandas\n",
    "    array = r[0].toArray()\n",
    "\n",
    "    # create pandas dataframe\n",
    "    correlation_matrix = pd.DataFrame(array, columns = columns, index = columns)\n",
    "    return correlation_matrix\n",
    "\n",
    "#####################################################\n",
    "# function to get sorted feature importance list\n",
    "#####################################################\n",
    "def sorted_features(fi,allcols):\n",
    "    ll = []\n",
    "    for i in range(len(allcols)):\n",
    "        ll.append([allcols[i], fi[i]])\n",
    "    l = sorted(ll, key=lambda x: x[1],reverse=True)\n",
    "    df = pd.DataFrame(l, columns=['feature','importance'])\n",
    "\n",
    "    return df\n",
    "\n",
    "\n",
    "#####################################################\n",
    "#make lists of highly correlated features \n",
    "#####################################################\n",
    "def highly_corr_features(corr_matrix,corrcoeff_from):\n",
    "    corr_matrix.loc[:,:] =  np.tril(corr_matrix, k=-1)\n",
    "    already_in = set()\n",
    "    result = []\n",
    "    for col in cor_matrix_df:\n",
    "        perfect_corr = corr_matrix[col][corr_matrix[col] > corrcoeff_from].index.tolist()\n",
    "        if perfect_corr and col not in already_in:\n",
    "            already_in.update(set(perfect_corr))\n",
    "            perfect_corr.append(col)\n",
    "            result.append(perfect_corr)\n",
    "    return result\n",
    "\n",
    "##################################################\n",
    "# keep this variables from the highly correlated variables\n",
    "####################################################\n",
    "# set feature column as index in the pandas dataframe\n",
    "#df_feature_importance.set_index('feature', drop=True, inplace=True) \n",
    "def variable_selection(feature_importance_df, corr_fam , n):\n",
    "    best_variables_list=[]\n",
    "    for item in corr_fam:\n",
    "        indices = list(item)\n",
    "        variable = tuple(feature_importance_df.loc[indices, :].sort_values(by='importance', axis=0, ascending=False).head(n).index)\n",
    "        best_variables_list.extend(variable)\n",
    "        best_variables = set(best_variables_list)\n",
    "    return best_variables\n",
    "\n",
    "\n",
    "##################################################\n",
    "# Final computations in order to choose the \n",
    "# variables that gonna be used for the model\n",
    "##################################################\n",
    "def get_features (cor_matrix_df, featureImportances, corr_coeff, numericcols,debug=False):\n",
    "\n",
    "    df_feat_imp = sorted_features(featureImportances, numericcols)\n",
    "    df_feat_imp.set_index('feature', drop=True, inplace=True) \n",
    "    if debug: print(df_feat_imp)\n",
    "\n",
    "    corr_features = highly_corr_features(cor_matrix_df, corr_coeff)\n",
    "    if debug: print(\"-corr_features-\",corr_features)\n",
    "\n",
    "    variables_to_keep = variable_selection(df_feat_imp, corr_features, 1)\n",
    "    if debug: print(variables_to_keep)\n",
    "\n",
    "    variables_to_exclude = []\n",
    "    for item in corr_features :\n",
    "        for i in item:\n",
    "            variables_to_exclude.append(i)\n",
    "\n",
    "    # make the appropriate handling with sets and list in order to \n",
    "    # select the variables\n",
    "    variables_to_exclude = list(set(variables_to_exclude))\n",
    "    all_columns = set(numericcols)\n",
    "    variables1 = all_columns.difference(variables_to_exclude)\n",
    "    final_list_of_variables = list (variables1.union(variables_to_keep)) \n",
    "\n",
    "    if debug: print(variables_to_exclude)\n",
    "    if debug: print(variables1)\n",
    "    if debug: print(\"-final-list_of_variable-\",final_list_of_variables,len(final_list_of_variables))\n",
    "    if debug: prin( df_feat_imp.loc[features, :].sort_values(by='importance', axis=0, ascending=False))\n",
    "\n",
    "    return final_list_of_variables, df_feat_imp\n"
   ]
  },
  {
   "cell_type": "code",
   "execution_count": 10,
   "metadata": {},
   "outputs": [],
   "source": [
    "def readlist(fn):\n",
    "#    print os.path.isfile(fn) \n",
    "    f = open(fn)\n",
    "    l = []\n",
    "    for line in f:\n",
    "        words = line.split()\n",
    "        for w in words:\n",
    "            l.append(w)\n",
    "    f.close()\n",
    "    return  l\n",
    "\n",
    "\n",
    "def writelist(words, fn):\n",
    "    fwords = open(fn, 'w')\n",
    "    for word in words:\n",
    "        fwords.write (word + \"\\n\")\n",
    "    fwords.close()\n",
    "    return\n"
   ]
  },
  {
   "cell_type": "code",
   "execution_count": 11,
   "metadata": {},
   "outputs": [],
   "source": [
    "import pickle\n",
    "\n",
    "def save_obj(obj, name):\n",
    "    with open(name + '.pkl', 'wb') as f:\n",
    "        pickle.dump(obj, f, pickle.HIGHEST_PROTOCOL)\n",
    "\n",
    "\n",
    "def load_obj(name):\n",
    "    with open(name + '.pkl', 'rb') as f:\n",
    "        return pickle.load(f)\n"
   ]
  },
  {
   "cell_type": "code",
   "execution_count": 12,
   "metadata": {},
   "outputs": [
    {
     "name": "stdout",
     "output_type": "stream",
     "text": [
      "C:\\Users\\skumar26\\Downloads\\Compressed\\CAble failure\\UC-OTE-CableFailure-master\\uc-ote-cablefailure\\UC-CableFailure-NonHarmonized\n"
     ]
    }
   ],
   "source": [
    "import os\n",
    "#os.chdir('C:/Users/skumar26/Downloads/Compressed/CAble failure/UC-OTE-CableFailure-master/uc-ote-cablefailure/UC-CableFailure-NonHarmonized')\n",
    "#cablefailuredir = os.getcwd()\n",
    "#print (cablefailuredir)"
   ]
  },
  {
   "cell_type": "markdown",
   "metadata": {},
   "source": [
    "<h1><a id = \"crisp_data_understanding\"></a>Data understanding</h1>\n",
    "<a href=\"#initialize_use_case_asset\"> 0 Initialize Use Case</a> \n",
    "<a href=\"#crisp_business_understanding\"> 1 Business Understanding </a>|\n",
    "<b>2 Data Understanding</b>\n",
    "<a href=\"#crisp_preparation\"> 3 Data Preparation </a>|\n",
    "<a href=\"#crisp_modeling\"> 4 Modeling </a>|\n",
    "<a href=\"#crisp_evaluation\"> 5 Evaluation </a>|\n",
    "<a href=\"#crisp_deployment\"> 6 Deployment </a>"
   ]
  },
  {
   "cell_type": "markdown",
   "metadata": {},
   "source": [
    "<h4>Dataset columns:</h4>\n",
    "\n",
    "<h5> Numeric Data Type Columns </h5> :   \n",
    "measurement_date,kv2,kv_lat,kv_lon,prom_id,high_temp,low_temp,mean_temp\n",
    "rain,retrains,i1_mean,i4,i2,i1_retrains,i1_disconnections,i1_up,i1_down\n",
    "i1,calc_sign_att,up_avg_rate,dn_avg_rate,b2,b1,neighbors,dailyretrains\n",
    "dailydisconnections,ar_min_rate,ar_max_rate,ac_min_rate,ac_max_rate\n",
    "up_sign_attn,dn_sign_attn,up_crt_rate,dn_crt_rate,ar_tgt_snr,up_snr\n",
    "ac_tgt_snr,dn_snr,estim_length,min_actualdatarateupstream,min_actualdataratedownstream\n",
    "min_acctsessiontime,min_acctoutputoctets,min_acctinputoctets,max_actualdatarateupstream\n",
    "max_actualdataratedownstream,max_acctsessiontime,max_acctoutputoctets,max_acctinputoctets\n",
    "disconnections,avg_actualdatarateupstream,avg_actualdataratedownstream,avg_acctsessiontime\n",
    "avg_acctoutputoctets,avg_acctinputoctets,prod_identifier\n",
    "\n",
    "<h5> Target Variable (Boolean): </h5> label"
   ]
  },
  {
   "cell_type": "code",
   "execution_count": 13,
   "metadata": {},
   "outputs": [
    {
     "name": "stdout",
     "output_type": "stream",
     "text": [
      "46\n"
     ]
    }
   ],
   "source": [
    "local = True\n",
    "dir_obj =  \"/obj/\"\n",
    "fpath = \"/data/\"\n",
    "\n",
    "# dir_obj = cablefailuredir + \"/obj/\"\n",
    "# fpath = cablefailuredir + \"/data/\"\n",
    "\n",
    "#fname0=\"non_cable_fault_only0/non_cable_fault_only0.csv\"\n",
    "#fname1=\"final_dataset_new/final_dataset_new.csv\"\n",
    "\n",
    "fname0 = 'resources_non_cable_final_cf_downsample.csv_b'\n",
    "fname1 = 'resources_cable_final_cf.csv_b'\n",
    "\n",
    "#PerformanceIndicator\n",
    "# features to use in the algorithms\n",
    "# previously cols_measure now cols_PerformanceIndicator\n",
    "cols_PerformanceIndicator = ['retrains', 'i1_mean', 'i4', 'i2', 'i1_retrains',\n",
    "           'i1_disconnections', 'i1_up', 'i1_down', 'i1', 'calc_sign_att',\n",
    "           'up_avg_rate', 'dn_avg_rate', 'b2', 'b1', 'neighbors', 'dailyretrains',\n",
    "           'dailydisconnections', 'ar_min_rate', 'ar_max_rate', 'ac_min_rate',\n",
    "           'ac_max_rate', 'up_sign_attn', 'dn_sign_attn', 'up_crt_rate',\n",
    "           'dn_crt_rate', 'ar_tgt_snr', 'up_snr', 'ac_tgt_snr', 'dn_snr',\n",
    "           'estim_length', 'min_actualdatarateupstream',\n",
    "           'min_actualdataratedownstream', 'min_acctsessiontime',\n",
    "           'min_acctoutputoctets', 'min_acctinputoctets',\n",
    "           'max_actualdatarateupstream', 'max_actualdataratedownstream',\n",
    "           'max_acctsessiontime', 'max_acctoutputoctets', 'max_acctinputoctets',\n",
    "           'disconnections', 'avg_actualdatarateupstream',\n",
    "           'avg_actualdataratedownstream', 'avg_acctsessiontime',\n",
    "           'avg_acctoutputoctets', 'avg_acctinputoctets']\n",
    "cols_weather = ['high_temp','low_temp', 'mean_temp', 'rain']\n",
    "#numericcols = cols_PerformanceIndicator + cols_weather\n",
    "numericcols = cols_PerformanceIndicator \n",
    "nonnumericcols = ['measurement_date','prod_identifier','kv2','kv_lat','kv_lon','prom_id'] + cols_weather\n",
    "\n",
    "allcolumns = nonnumericcols + numericcols + ['label']\n",
    "\n",
    "print(len(cols_PerformanceIndicator))"
   ]
  },
  {
   "cell_type": "code",
   "execution_count": 14,
   "metadata": {},
   "outputs": [
    {
     "name": "stdout",
     "output_type": "stream",
     "text": [
      "44913 57\n",
      "61681\n"
     ]
    }
   ],
   "source": [
    "if (local):\n",
    "    sc = SparkContext.getOrCreate()\n",
    "    sqlContext = SQLContext(sc)\n",
    "    df1 = sqlContext.read.format('com.databricks.spark.csv').options(header='true', inferschema='true') \\\n",
    "     .load(fpath+fname1)\n",
    "    df = sqlContext.read.format('com.databricks.spark.csv').options(header='true', inferschema='true') \\\n",
    "     .load(fpath+fname0)\n",
    "else:\n",
    "    sc, sqlContext = sparkinit_global()\n",
    "    df1 = sqlContext.sql(\"\"\"SELECT * FROM data_analyst.cable_final_cf\"\"\")\n",
    "    df = sqlContext.sql(\"\"\"SELECT * FROM data_analyst.non_cable_final_cf_downsample\"\"\")\n",
    "\n",
    "print(df1.count(),len(df1.columns))\n",
    "print(df.count())\n"
   ]
  },
  {
   "cell_type": "markdown",
   "metadata": {},
   "source": [
    "<h1><a id=\"crisp_preparation\"></a>Data preparation</h1>\n",
    "<a href=\"#initialize_use_case_asset\"> 0 Initialize Use Case</a> |\n",
    "<a href=\"#crisp_business_understanding\"> 1 Business Understanding </a>|\n",
    "<a href=\"#crisp_data_understanding\"> 2 Data Understanding </a>|\n",
    "<b>3 Data Preparation</b>|\n",
    "<a href=\"#crisp_modeling\"> 4 Modeling </a>|\n",
    "<a href=\"#crisp_evaluation\"> 5 Evaluation </a>|\n",
    "<a href=\"#crisp_deployment\"> 6 Deployment </a>"
   ]
  },
  {
   "cell_type": "code",
   "execution_count": 15,
   "metadata": {},
   "outputs": [
    {
     "name": "stdout",
     "output_type": "stream",
     "text": [
      "106594 57\n"
     ]
    }
   ],
   "source": [
    "df1 = df1.select(allcolumns)\n",
    "df = df.select(allcolumns)\n",
    "df = df1.union(df)\n",
    "\n",
    "print(df.count(),len(df.columns))\n",
    "\n",
    "df = df.coalesce(4)"
   ]
  },
  {
   "cell_type": "code",
   "execution_count": 29,
   "metadata": {},
   "outputs": [],
   "source": [
    "#df1.show(2)"
   ]
  },
  {
   "cell_type": "markdown",
   "metadata": {},
   "source": [
    "<a id='another_cell'></a>"
   ]
  },
  {
   "cell_type": "code",
   "execution_count": 16,
   "metadata": {},
   "outputs": [
    {
     "data": {
      "text/plain": [
       "'abgd'"
      ]
     },
     "execution_count": 16,
     "metadata": {},
     "output_type": "execute_result"
    }
   ],
   "source": [
    "import unidecode\n",
    "unidecode.unidecode(u'αβγδ')"
   ]
  },
  {
   "cell_type": "markdown",
   "metadata": {},
   "source": [
    "## Heading Here"
   ]
  },
  {
   "cell_type": "code",
   "execution_count": 17,
   "metadata": {},
   "outputs": [
    {
     "name": "stdout",
     "output_type": "stream",
     "text": [
      "1654-SPA-111\n",
      "Column<b'udf_translit(1654-\\xce\\xa3\\xce\\xa0\\xce\\x91-111)'>\n"
     ]
    }
   ],
   "source": [
    "a = u'1654-ΣΠΑ-111'\n",
    "from transliterate.utils import translit\n",
    "print( translit(a, 'el', reversed=True))\n",
    "import unidecode\n",
    "\n",
    "@udf('string')\n",
    "def udf_translit(v):\n",
    "#    v2 = translit(v,'el',reversed=True)\n",
    "    # v2 = unidecode.unidecode(v)\n",
    "    v2 = v\n",
    "    return v2\n",
    "\n",
    "df = df.withColumn('prom_id', udf_translit(df.prom_id))\n",
    "\n",
    "print( udf_translit(u'1654-ΣΠΑ-111'))2"
   ]
  },
  {
   "cell_type": "code",
   "execution_count": 59,
   "metadata": {},
   "outputs": [],
   "source": [
    "??translit\n"
   ]
  },
  {
   "cell_type": "code",
   "execution_count": 18,
   "metadata": {},
   "outputs": [],
   "source": [
    "from pyspark.sql.types import FloatType, DoubleType\n",
    "\n",
    "for x in df.schema:\n",
    "    if (x.name in (numericcols)):\n",
    "        if (x.dataType == FloatType()):\n",
    "            continue\n",
    "        elif (x.dataType == DoubleType()):\n",
    "            continue\n",
    "        else:\n",
    "            print(x.name, x.dataType)\n",
    "            df = df.withColumn(x.name, df[x.name].cast(DoubleType()).alias(x.name))\n"
   ]
  },
  {
   "cell_type": "code",
   "execution_count": 19,
   "metadata": {},
   "outputs": [],
   "source": [
    "from pyspark.sql.functions import col,sum\n",
    "\n",
    "if (local):\n",
    "    dfcol = []\n",
    "    for x in nonnumericcols: dfcol.append(df[x])\n",
    "    for c in numericcols: dfcol.append(df[c].cast(\"float\"))\n",
    "    dfcol.append(df['label'].cast(\"int\"))\n",
    "\n",
    "    dfml = df.select(*dfcol)\n",
    "else:\n",
    "    dfml = df.select([c for c in df.columns if c in allcolumns])\n",
    "\n",
    "# make a new column label1 of type double and drop ori label\n",
    "dfml = dfml.withColumn('label1', dfml['label'].astype('double'))\n",
    "dfml = dfml.drop('label')\n",
    "\n",
    "# remove all rows labelled not [0,1]\n",
    "dfml = dfml.where((col(\"label1\") == '0') | (col(\"label1\") == '1'))\n"
   ]
  },
  {
   "cell_type": "code",
   "execution_count": 27,
   "metadata": {},
   "outputs": [],
   "source": [
    "#dfml.show(2)"
   ]
  },
  {
   "cell_type": "code",
   "execution_count": 20,
   "metadata": {},
   "outputs": [
    {
     "name": "stdout",
     "output_type": "stream",
     "text": [
      "+------+-----+\n",
      "|label1|count|\n",
      "+------+-----+\n",
      "|   0.0|53070|\n",
      "|   1.0|22702|\n",
      "+------+-----+\n",
      "\n",
      "None\n",
      "+------+-----+\n",
      "|label1|count|\n",
      "+------+-----+\n",
      "|   0.0|21411|\n",
      "|   1.0|22594|\n",
      "+------+-----+\n",
      "\n",
      "None\n"
     ]
    }
   ],
   "source": [
    "def testprint(dfml, collbl, describepandas=False):\n",
    "    print(dfml.groupby(collbl).count().show())\n",
    "        \n",
    "    if (describepandas):\n",
    "        print( dfml.describe().toPandas().transpose())\n",
    "    return\n",
    "\n",
    "testprint(dfml, 'label1', describepandas=False)\n",
    "\n",
    "# take a sample in order to make the target variable equally distributed stratified sampling and drop duplicates\n",
    "dfml = dfml.sampleBy(\"label1\", fractions={0.0: 0.4, 1.0: 1}, seed=0).dropDuplicates()\n",
    "\n",
    "replace_missing_values_and_NANs = list (set (numericcols) - set(['high_temp','low_temp', 'mean_temp', 'rain']))\n",
    "for x in replace_missing_values_and_NANs:\n",
    "    dfml = dfml.na.fill(-999,[x])\n",
    "\n",
    "testprint(dfml, 'label1', describepandas=False)\n"
   ]
  },
  {
   "cell_type": "code",
   "execution_count": 21,
   "metadata": {},
   "outputs": [
    {
     "name": "stdout",
     "output_type": "stream",
     "text": [
      "+------+-----+\n",
      "|label1|count|\n",
      "+------+-----+\n",
      "|   0.0|20454|\n",
      "|   1.0|20887|\n",
      "+------+-----+\n",
      "\n",
      "None\n"
     ]
    }
   ],
   "source": [
    "dfml.toPandas().to_csv(dir_obj + 'df_ml2.csv',  sep=',', encoding='utf-8', index=False)\n",
    "\n",
    "df1 = dfml.na.drop(how='any',subset=nonnumericcols)\n",
    "testprint(df1, 'label1', describepandas=False)\n"
   ]
  },
  {
   "cell_type": "markdown",
   "metadata": {},
   "source": [
    "<h1><a id=\"crisp_modeling\"></a>Modeling</h1>\n",
    "<a href=\"#initialize_use_case_asset\"> 0 Initialize Use Case</a> |\n",
    "<a href=\"#crisp_business_understanding\"> 1 Business Understanding </a>|\n",
    "<a href=\"#crisp_data_understanding\"> 2 Business Understanding </a>|\n",
    "<a href=\"#crisp_preparation\"> 3 Data Preparation </a>|\n",
    "<b>4 Modeling</b>\n",
    "<a href=\"#crisp_evaluation\"> 5 Evaluation </a>|\n",
    "<a href=\"#crisp_deployment\"> 6 Deployment </a>"
   ]
  },
  {
   "cell_type": "markdown",
   "metadata": {},
   "source": [
    "<h3><a id=\"Random_Forest _Classifier\"></a>Random Forest Classifier</h3>\n",
    "\n",
    "<a href=\"#Asset_Code_Parts\"> Asset Code Parts </a> |\n",
    "<a href=\"#Feature_Selection_Using_Correlation_Matrix\"> 1 Feature Selection Using Correlation Matrix </a>\n",
    "<b>2 Random Forest Classifier</b> |\n",
    "<a href=\"#Model_Evalulation_Confusion_Matrix\"> 3 Model Evalulation - Confusion Matrix</a> |\n",
    "<a href=\"#Printing The Accuracy Metrics\"> 4 Printing The Accuracy Metrics</a>"
   ]
  },
  {
   "cell_type": "code",
   "execution_count": 54,
   "metadata": {},
   "outputs": [
    {
     "name": "stdout",
     "output_type": "stream",
     "text": [
      "30973 10368\n"
     ]
    }
   ],
   "source": [
    "# remove missing values\n",
    "import pandas as pd\n",
    "import numpy as np\n",
    "\n",
    "df1 = dfml.na.drop().drop('measurement_date', 'sr_num', 'prod_identifier', 'kv2', 'kv_lat', 'kv_lon')\n",
    "\n",
    "\n",
    "\n",
    "\n",
    "from pyspark.ml import Pipeline\n",
    "from pyspark.ml.feature import OneHotEncoder, StringIndexer, VectorAssembler\n",
    "from pyspark.sql import *\n",
    "\n",
    "assembler = VectorAssembler(inputCols=numericcols, outputCol=\"features\")\n",
    "assembled = assembler.transform(df1)\n",
    "\n",
    "# split the data\n",
    "(trainingData, testData) = assembled.randomSplit([0.75, 0.25], seed = 0)\n",
    "print( trainingData.count(), testData.count())\n",
    "\n",
    "trainingData=trainingData.coalesce(4)\n",
    "testData=testData.coalesce(4)\n"
   ]
  },
  {
   "cell_type": "code",
   "execution_count": 56,
   "metadata": {},
   "outputs": [
    {
     "name": "stdout",
     "output_type": "stream",
     "text": [
      "<class 'pyspark.sql.dataframe.DataFrame'>\n",
      "<class 'pyspark.sql.dataframe.DataFrame'>\n"
     ]
    }
   ],
   "source": [
    "print(type(df1))\n",
    "print(type(trainingData))"
   ]
  },
  {
   "cell_type": "code",
   "execution_count": 58,
   "metadata": {},
   "outputs": [],
   "source": [
    "pdf1 = df1.toPandas()\n",
    "pdf2 = trainingData.toPandas()\n",
    "# print(type(df1))\n",
    "# print(type(pandas_df))\n",
    "pdf1.to_csv(r'C:\\Users\\skumar26\\Desktop\\Day Work\\Assets\\IDF\\chk\\df1.csv', index = None, header=True) \n",
    "pdf2.to_csv(r'C:\\Users\\skumar26\\Desktop\\Day Work\\Assets\\IDF\\chk\\df2.csv', index = None, header=True) "
   ]
  },
  {
   "cell_type": "code",
   "execution_count": 52,
   "metadata": {},
   "outputs": [
    {
     "name": "stdout",
     "output_type": "stream",
     "text": [
      "<class 'pyspark.sql.dataframe.DataFrame'>\n",
      "<class 'pandas.core.frame.DataFrame'>\n"
     ]
    }
   ],
   "source": [
    "pandas_df = df1.toPandas()\n",
    "print(type(df1))\n",
    "print(type(pandas_df))\n",
    "pandas_df.to_csv(r'C:\\Users\\skumar26\\Desktop\\Day Work\\Assets\\IDF\\df1.csv', index = None, header=True) \n"
   ]
  },
  {
   "cell_type": "code",
   "execution_count": null,
   "metadata": {},
   "outputs": [],
   "source": [
    "\n"
   ]
  },
  {
   "cell_type": "code",
   "execution_count": 23,
   "metadata": {},
   "outputs": [],
   "source": [
    "from pyspark.ml.classification import RandomForestClassifier\n",
    "\n",
    "# 2 parameters numTrees,maxDepth adopted\n",
    "rf = RandomForestClassifier(numTrees=10, maxDepth=15, labelCol=\"label1\", featuresCol=\"features\")\n",
    "model = rf.fit(trainingData)\n",
    "model_full = model.copy()\n"
   ]
  },
  {
   "cell_type": "code",
   "execution_count": 55,
   "metadata": {},
   "outputs": [],
   "source": [
    "??RandomForestClassifier"
   ]
  },
  {
   "cell_type": "code",
   "execution_count": 24,
   "metadata": {},
   "outputs": [
    {
     "name": "stdout",
     "output_type": "stream",
     "text": [
      "Normalized confusion matrix\n",
      "[[0.79948688 0.20051312]\n",
      " [0.05640445 0.94359555]]\n",
      "Confusion matrix, without normalization\n",
      "[[4051. 1016.]\n",
      " [ 299. 5002.]]\n",
      "Accuracy = 0.873167 \n",
      "Precision = 0.831173 \n",
      "Recall = 0.943596 \n",
      "--------------------------------\n"
     ]
    },
    {
     "data": {
      "image/png": "[encoded data removed]",
      "text/plain": [
       "<Figure size 432x288 with 2 Axes>"
      ]
     },
     "metadata": {
      "needs_background": "light"
     },
     "output_type": "display_data"
    }
   ],
   "source": [
    "#predict_plots (model,trainingData)\n",
    "predict_plots (model,testData)"
   ]
  },
  {
   "cell_type": "code",
   "execution_count": 25,
   "metadata": {},
   "outputs": [
    {
     "name": "stdout",
     "output_type": "stream",
     "text": [
      "['neighbors', 'disconnections', 'min_actualdatarateupstream', 'avg_acctinputoctets', 'min_acctoutputoctets', 'ac_min_rate', 'retrains', 'ar_tgt_snr', 'estim_length', 'dn_sign_attn', 'avg_acctsessiontime', 'up_crt_rate', 'dailydisconnections'] 13\n"
     ]
    }
   ],
   "source": [
    "cor_matrix_df = correlation_matrix(df1, numericcols)\n",
    "\n",
    "features, df_feat_imp = get_features (cor_matrix_df, model_full.featureImportances, 0.8, numericcols, debug=False)\n",
    "print( features,len(features))\n",
    "\n",
    "df_feat_imp.loc[features, :].sort_values(by='importance', axis=0, ascending=False)\n",
    "writelist(features,dir_obj + \"features080.csv\")\n",
    "features_080 = features[:]"
   ]
  },
  {
   "cell_type": "code",
   "execution_count": 37,
   "metadata": {},
   "outputs": [
    {
     "name": "stdout",
     "output_type": "stream",
     "text": [
      "             retrains   i1_mean        i4        i2  i1_retrains  \\\n",
      "retrains     0.000000  0.000000  0.000000  0.000000          0.0   \n",
      "i1_mean     -0.053377  0.000000  0.000000  0.000000          0.0   \n",
      "i4          -0.050770  0.999701  0.000000  0.000000          0.0   \n",
      "i2          -0.065535  0.839633  0.838401  0.000000          0.0   \n",
      "i1_retrains -0.062925  0.996362  0.995439  0.841873          0.0   \n",
      "\n",
      "             i1_disconnections  i1_up  i1_down   i1  calc_sign_att  \\\n",
      "retrains                   0.0    0.0      0.0  0.0            0.0   \n",
      "i1_mean                    0.0    0.0      0.0  0.0            0.0   \n",
      "i4                         0.0    0.0      0.0  0.0            0.0   \n",
      "i2                         0.0    0.0      0.0  0.0            0.0   \n",
      "i1_retrains                0.0    0.0      0.0  0.0            0.0   \n",
      "\n",
      "             up_avg_rate  dn_avg_rate   b2   b1  neighbors  dailyretrains  \\\n",
      "retrains             0.0          0.0  0.0  0.0        0.0            0.0   \n",
      "i1_mean              0.0          0.0  0.0  0.0        0.0            0.0   \n",
      "i4                   0.0          0.0  0.0  0.0        0.0            0.0   \n",
      "i2                   0.0          0.0  0.0  0.0        0.0            0.0   \n",
      "i1_retrains          0.0          0.0  0.0  0.0        0.0            0.0   \n",
      "\n",
      "             dailydisconnections  ar_min_rate  ar_max_rate  ac_min_rate  \\\n",
      "retrains                     0.0          0.0          0.0          0.0   \n",
      "i1_mean                      0.0          0.0          0.0          0.0   \n",
      "i4                           0.0          0.0          0.0          0.0   \n",
      "i2                           0.0          0.0          0.0          0.0   \n",
      "i1_retrains                  0.0          0.0          0.0          0.0   \n",
      "\n",
      "             ac_max_rate  up_sign_attn  dn_sign_attn  up_crt_rate  \\\n",
      "retrains             0.0           0.0           0.0          0.0   \n",
      "i1_mean              0.0           0.0           0.0          0.0   \n",
      "i4                   0.0           0.0           0.0          0.0   \n",
      "i2                   0.0           0.0           0.0          0.0   \n",
      "i1_retrains          0.0           0.0           0.0          0.0   \n",
      "\n",
      "             dn_crt_rate  ar_tgt_snr  up_snr  ac_tgt_snr  dn_snr  \\\n",
      "retrains             0.0         0.0     0.0         0.0     0.0   \n",
      "i1_mean              0.0         0.0     0.0         0.0     0.0   \n",
      "i4                   0.0         0.0     0.0         0.0     0.0   \n",
      "i2                   0.0         0.0     0.0         0.0     0.0   \n",
      "i1_retrains          0.0         0.0     0.0         0.0     0.0   \n",
      "\n",
      "             estim_length  min_actualdatarateupstream  \\\n",
      "retrains              0.0                         0.0   \n",
      "i1_mean               0.0                         0.0   \n",
      "i4                    0.0                         0.0   \n",
      "i2                    0.0                         0.0   \n",
      "i1_retrains           0.0                         0.0   \n",
      "\n",
      "             min_actualdataratedownstream  min_acctsessiontime  \\\n",
      "retrains                              0.0                  0.0   \n",
      "i1_mean                               0.0                  0.0   \n",
      "i4                                    0.0                  0.0   \n",
      "i2                                    0.0                  0.0   \n",
      "i1_retrains                           0.0                  0.0   \n",
      "\n",
      "             min_acctoutputoctets  min_acctinputoctets  \\\n",
      "retrains                      0.0                  0.0   \n",
      "i1_mean                       0.0                  0.0   \n",
      "i4                            0.0                  0.0   \n",
      "i2                            0.0                  0.0   \n",
      "i1_retrains                   0.0                  0.0   \n",
      "\n",
      "             max_actualdatarateupstream  max_actualdataratedownstream  \\\n",
      "retrains                            0.0                           0.0   \n",
      "i1_mean                             0.0                           0.0   \n",
      "i4                                  0.0                           0.0   \n",
      "i2                                  0.0                           0.0   \n",
      "i1_retrains                         0.0                           0.0   \n",
      "\n",
      "             max_acctsessiontime  max_acctoutputoctets  max_acctinputoctets  \\\n",
      "retrains                     0.0                   0.0                  0.0   \n",
      "i1_mean                      0.0                   0.0                  0.0   \n",
      "i4                           0.0                   0.0                  0.0   \n",
      "i2                           0.0                   0.0                  0.0   \n",
      "i1_retrains                  0.0                   0.0                  0.0   \n",
      "\n",
      "             disconnections  avg_actualdatarateupstream  \\\n",
      "retrains                0.0                         0.0   \n",
      "i1_mean                 0.0                         0.0   \n",
      "i4                      0.0                         0.0   \n",
      "i2                      0.0                         0.0   \n",
      "i1_retrains             0.0                         0.0   \n",
      "\n",
      "             avg_actualdataratedownstream  avg_acctsessiontime  \\\n",
      "retrains                              0.0                  0.0   \n",
      "i1_mean                               0.0                  0.0   \n",
      "i4                                    0.0                  0.0   \n",
      "i2                                    0.0                  0.0   \n",
      "i1_retrains                           0.0                  0.0   \n",
      "\n",
      "             avg_acctoutputoctets  avg_acctinputoctets  \n",
      "retrains                      0.0                  0.0  \n",
      "i1_mean                       0.0                  0.0  \n",
      "i4                            0.0                  0.0  \n",
      "i2                            0.0                  0.0  \n",
      "i1_retrains                   0.0                  0.0  \n"
     ]
    }
   ],
   "source": [
    "print(cor_matrix_df.head(5))"
   ]
  },
  {
   "cell_type": "markdown",
   "metadata": {},
   "source": [
    "<h1> <a id=\"crisp_evaluation\"></a>Evaluation</h1> \n",
    "<a href=\"#initialize_use_case_asset\"> 0 Initialize Use Case</a> |\n",
    "<a href=\"#crisp_business_understanding\"> 1 Business Understanding </a>|\n",
    "<a href=\"#crisp_data_understanding\"> 2 Business Understanding </a>|\n",
    "<a href=\"#crisp_preparation\"> 3 Data Preparation </a>|\n",
    "<a href=\"#crisp_modeling\"> 4 Modeling </a>|\n",
    "<a href=\"#crisp_evaluation\"> <b>5 Evaluation</b></a>|\n",
    "<a href=\"#crisp_deployment\"> 6 Deployment</a>"
   ]
  },
  {
   "cell_type": "code",
   "execution_count": 26,
   "metadata": {},
   "outputs": [
    {
     "name": "stdout",
     "output_type": "stream",
     "text": [
      "30973 10368\n"
     ]
    }
   ],
   "source": [
    "assembler = VectorAssembler(inputCols=features, outputCol=\"features\")\n",
    "assembled = assembler.transform(df1)\n",
    "\n",
    "# split the data\n",
    "(trainingData, testData) = assembled.randomSplit([0.75, 0.25], seed = 0)\n",
    "print(trainingData.count(), testData.count())\n",
    "\n",
    "trainingData=trainingData.coalesce(4)\n",
    "testData=testData.coalesce(4)\n"
   ]
  },
  {
   "cell_type": "markdown",
   "metadata": {},
   "source": [
    "<h3><a id=\"Model_Evalulation_Confusion_Matrix\"></a>Model Evalulation - Confusion Matrix</h3>\n",
    "\n",
    "<a href=\"#Asset_Code_Parts\"> Asset Code Parts </a> |\n",
    "<a href=\"#Feature_Selection_Using_Correlation_Matrix\"> 1 Feature Selection Using Correlation Matrix </a>\n",
    "<a href=\"#Random_Forest _Classifier\"> 2 Random Forest Classifier </a>\n",
    "<b>3 Model Evalulation - Confusion Matrix</b> |\n",
    "<a href=\"#Printing The Accuracy Metrics\"> 4 Printing The Accuracy Metrics</a>"
   ]
  },
  {
   "cell_type": "code",
   "execution_count": 27,
   "metadata": {},
   "outputs": [
    {
     "name": "stdout",
     "output_type": "stream",
     "text": [
      "Normalized confusion matrix\n",
      "[[0.78172489 0.21827511]\n",
      " [0.07489153 0.92510847]]\n",
      "Confusion matrix, without normalization\n",
      "[[3961. 1106.]\n",
      " [ 397. 4904.]]\n",
      "Accuracy = 0.855035 \n",
      "Precision = 0.815973 \n",
      "Recall = 0.925108 \n",
      "--------------------------------\n"
     ]
    },
    {
     "data": {
      "image/png": "[encoded data removed]",
      "text/plain": [
       "<Figure size 432x288 with 2 Axes>"
      ]
     },
     "metadata": {
      "needs_background": "light"
     },
     "output_type": "display_data"
    }
   ],
   "source": [
    "rf = RandomForestClassifier(numTrees=10, maxDepth=15, labelCol=\"label1\", featuresCol=\"features\")\n",
    "model = rf.fit(trainingData)\n",
    "\n",
    "predict_plots (model,testData)\n"
   ]
  },
  {
   "cell_type": "code",
   "execution_count": 28,
   "metadata": {},
   "outputs": [
    {
     "name": "stdout",
     "output_type": "stream",
     "text": [
      "['neighbors', 'ac_max_rate', 'max_acctoutputoctets', 'disconnections', 'dn_crt_rate', 'ar_min_rate', 'ac_min_rate', 'retrains', 'avg_actualdataratedownstream', 'ar_max_rate', 'ar_tgt_snr', 'avg_acctsessiontime', 'dailydisconnections', 'i2', 'min_actualdatarateupstream', 'max_actualdatarateupstream', 'avg_acctinputoctets', 'min_acctoutputoctets', 'estim_length', 'dn_avg_rate', 'dn_sign_attn', 'dn_snr', 'min_actualdataratedownstream', 'up_crt_rate', 'up_avg_rate'] 25\n"
     ]
    }
   ],
   "source": [
    "cor_matrix_df = correlation_matrix(df1, numericcols)\n",
    "features, df_feat_imp = get_features (cor_matrix_df, model_full.featureImportances, 0.95, numericcols, debug=False)\n",
    "print( features,len(features))\n",
    "writelist(features,dir_obj + \"features095.csv\")"
   ]
  },
  {
   "cell_type": "code",
   "execution_count": 29,
   "metadata": {},
   "outputs": [
    {
     "name": "stdout",
     "output_type": "stream",
     "text": [
      "30973 10368\n"
     ]
    }
   ],
   "source": [
    "assembler = VectorAssembler(inputCols=features, outputCol=\"features\")\n",
    "assembled = assembler.transform(df1)\n",
    "\n",
    "# split the data\n",
    "(trainingData, testData) = assembled.randomSplit([0.75, 0.25], seed = 0)\n",
    "print( trainingData.count(), testData.count())\n",
    "trainingData=trainingData.coalesce(4)\n",
    "testData=testData.coalesce(4)"
   ]
  },
  {
   "cell_type": "code",
   "execution_count": 30,
   "metadata": {},
   "outputs": [
    {
     "name": "stdout",
     "output_type": "stream",
     "text": [
      "Normalized confusion matrix\n",
      "[[0.78586935 0.21413065]\n",
      " [0.05904546 0.94095454]]\n",
      "Confusion matrix, without normalization\n",
      "[[3982. 1085.]\n",
      " [ 313. 4988.]]\n",
      "Accuracy = 0.865162 \n",
      "Precision = 0.82134 \n",
      "Recall = 0.940955 \n",
      "--------------------------------\n"
     ]
    },
    {
     "data": {
      "image/png": "[encoded data removed]",
      "text/plain": [
       "<Figure size 432x288 with 2 Axes>"
      ]
     },
     "metadata": {
      "needs_background": "light"
     },
     "output_type": "display_data"
    }
   ],
   "source": [
    "rf = RandomForestClassifier(numTrees=10, maxDepth=15, labelCol=\"label1\", featuresCol=\"features\")\n",
    "model = rf.fit(trainingData)\n",
    "\n",
    "prediction = predict_plots (model,testData,returnpara=True)"
   ]
  },
  {
   "cell_type": "code",
   "execution_count": 31,
   "metadata": {},
   "outputs": [
    {
     "name": "stderr",
     "output_type": "stream",
     "text": [
      "C:\\Users\\skumar26\\AppData\\Local\\Continuum\\anaconda3\\lib\\site-packages\\sklearn\\ensemble\\weight_boosting.py:29: DeprecationWarning: numpy.core.umath_tests is an internal NumPy module and should not be imported. It will be removed in a future NumPy release.\n",
      "  from numpy.core.umath_tests import inner1d\n",
      "C:\\Users\\skumar26\\AppData\\Local\\Continuum\\anaconda3\\lib\\site-packages\\ipykernel_launcher.py:26: DataConversionWarning: A column-vector y was passed when a 1d array was expected. Please change the shape of y to (n_samples,), for example using ravel().\n",
      "C:\\Users\\skumar26\\AppData\\Local\\Continuum\\anaconda3\\lib\\site-packages\\sklearn\\ensemble\\forest.py:453: UserWarning: Some inputs do not have OOB scores. This probably means too few trees were used to compute any reliable oob estimates.\n",
      "  warn(\"Some inputs do not have OOB scores. \"\n",
      "C:\\Users\\skumar26\\AppData\\Local\\Continuum\\anaconda3\\lib\\site-packages\\sklearn\\ensemble\\forest.py:458: RuntimeWarning: invalid value encountered in true_divide\n",
      "  predictions[k].sum(axis=1)[:, np.newaxis])\n"
     ]
    },
    {
     "name": "stdout",
     "output_type": "stream",
     "text": [
      "Normalized confusion matrix\n",
      "[[0.79001381 0.20998619]\n",
      " [0.06074326 0.93925674]]\n",
      "Confusion matrix, without normalization\n",
      "[[4003 1064]\n",
      " [ 322 4979]]\n",
      "Accuracy = 0.866319 \n",
      "Precision = 0.823929 \n",
      "Recall = 0.939257 \n",
      "--------------------------------\n"
     ]
    },
    {
     "data": {
      "image/png": "[encoded data removed]",
      "text/plain": [
       "<Figure size 432x288 with 2 Axes>"
      ]
     },
     "metadata": {
      "needs_background": "light"
     },
     "output_type": "display_data"
    }
   ],
   "source": [
    "pd_train = trainingData.toPandas()\n",
    "pd_test = testData.toPandas()\n",
    "#save_obj(pd_train, dir_obj + 'pandas-train.pkl')\n",
    "#save_obj(pd_Test, dir_obj + 'pandas-test.pkl')\n",
    "\n",
    "\n",
    "features = readlist(dir_obj + \"features080.csv\")\n",
    "#pd_train=load_obj(dir_obj + 'pandas-train.pkl')\n",
    "#pd_test =load_obj(dir_obj + 'pandas-test.pkl')\n",
    "\n",
    "\n",
    "# input: print trainingData.count(), testData.count()\n",
    "def getXy (df_pd):\n",
    "    X = df_pd[features]\n",
    "    y = df_pd[['label1']]\n",
    "    return X,y\n",
    "\n",
    "X_train, y_train = getXy(pd_train)\n",
    "X_test, y_test = getXy(pd_test)\n",
    "\n",
    "from sklearn.ensemble import RandomForestClassifier\n",
    "from sklearn.metrics import confusion_matrix\n",
    "\n",
    "clf_sk = RandomForestClassifier(max_features = 10, random_state = 0, oob_score=True, \n",
    "                              max_depth = 15, n_estimators = 10, n_jobs = -1)\n",
    "clf_sk.fit(X_train, y_train)\n",
    "\n",
    "pred_lbl = clf_sk.predict(X_test)\n",
    "conf_matrix = confusion_matrix(y_test, pred_lbl)\n",
    "print_confmatrix(conf_matrix)\n",
    "\n"
   ]
  },
  {
   "cell_type": "code",
   "execution_count": 32,
   "metadata": {},
   "outputs": [
    {
     "data": {
      "text/html": [
       "<div>\n",
       "<style scoped>\n",
       "    .dataframe tbody tr th:only-of-type {\n",
       "        vertical-align: middle;\n",
       "    }\n",
       "\n",
       "    .dataframe tbody tr th {\n",
       "        vertical-align: top;\n",
       "    }\n",
       "\n",
       "    .dataframe thead th {\n",
       "        text-align: right;\n",
       "    }\n",
       "</style>\n",
       "<table border=\"1\" class=\"dataframe\">\n",
       "  <thead>\n",
       "    <tr style=\"text-align: right;\">\n",
       "      <th></th>\n",
       "      <th>prom_id</th>\n",
       "      <th>Average_Probability_OF_Cable_Failure</th>\n",
       "      <th>Total_Subscribers</th>\n",
       "      <th>Total_Positive_Predicted_Subscribers</th>\n",
       "      <th>percentage</th>\n",
       "    </tr>\n",
       "  </thead>\n",
       "  <tbody>\n",
       "    <tr>\n",
       "      <th>0</th>\n",
       "      <td>7851-KhAL-568</td>\n",
       "      <td>0.687422</td>\n",
       "      <td>92</td>\n",
       "      <td>73.0</td>\n",
       "      <td>0.793478</td>\n",
       "    </tr>\n",
       "    <tr>\n",
       "      <th>1</th>\n",
       "      <td>5058-MAN-331</td>\n",
       "      <td>0.705645</td>\n",
       "      <td>69</td>\n",
       "      <td>61.0</td>\n",
       "      <td>0.884058</td>\n",
       "    </tr>\n",
       "  </tbody>\n",
       "</table>\n",
       "</div>"
      ],
      "text/plain": [
       "         prom_id  Average_Probability_OF_Cable_Failure  Total_Subscribers  \\\n",
       "0  7851-KhAL-568                              0.687422                 92   \n",
       "1   5058-MAN-331                              0.705645                 69   \n",
       "\n",
       "   Total_Positive_Predicted_Subscribers  percentage  \n",
       "0                                  73.0    0.793478  \n",
       "1                                  61.0    0.884058  "
      ]
     },
     "execution_count": 32,
     "metadata": {},
     "output_type": "execute_result"
    }
   ],
   "source": [
    "from pyspark.sql.functions import udf\n",
    "from pyspark.sql.types import FloatType\n",
    "\n",
    "firstelement=udf(lambda v:float(v[0]),FloatType())\n",
    "secondelement=udf(lambda v:float(v[1]),FloatType())\n",
    "\n",
    "predictions2 = prediction.withColumn(\"prob0\",firstelement('probability')).withColumn(\"probability_of_cable_failure\", secondelement('probability'))\n",
    "\n",
    "\n",
    "from pyspark.sql.functions import count, avg\n",
    "from pyspark.sql.functions import sum\n",
    "import pyspark.sql.functions as F\n",
    "\n",
    "# group by kv in order to make a list of KV's\n",
    "kvs2 = predictions2.groupby('prom_id').agg(avg(\"probability_of_cable_failure\"), count(\"*\"), sum('prediction')).withColumnRenamed('avg(probability_of_cable_failure)',\"Average_Probability_OF_Cable_Failure\").withColumnRenamed('count(1)',\"Total_Subscribers\").withColumnRenamed('sum(prediction)',\"Total_Positive_Predicted_Subscribers\").sort(\"Total_Positive_Predicted_Subscribers\", ascending=False)\n",
    "kvs2df = kvs2.withColumn('percentage', F.col(\"Total_Positive_Predicted_Subscribers\") / F.col('Total_subscribers') )\n",
    "\n",
    "kvs2df = kvs2df.toPandas()\n",
    "kvs2df.head(2)\n"
   ]
  },
  {
   "cell_type": "code",
   "execution_count": 33,
   "metadata": {},
   "outputs": [
    {
     "name": "stdout",
     "output_type": "stream",
     "text": [
      "3034 588\n"
     ]
    },
    {
     "data": {
      "text/html": [
       "<div>\n",
       "<style scoped>\n",
       "    .dataframe tbody tr th:only-of-type {\n",
       "        vertical-align: middle;\n",
       "    }\n",
       "\n",
       "    .dataframe tbody tr th {\n",
       "        vertical-align: top;\n",
       "    }\n",
       "\n",
       "    .dataframe thead th {\n",
       "        text-align: right;\n",
       "    }\n",
       "</style>\n",
       "<table border=\"1\" class=\"dataframe\">\n",
       "  <thead>\n",
       "    <tr style=\"text-align: right;\">\n",
       "      <th></th>\n",
       "      <th>prom_id</th>\n",
       "      <th>Average_Probability_OF_Cable_Failure</th>\n",
       "      <th>Total_Subscribers</th>\n",
       "      <th>Total_Positive_Predicted_Subscribers</th>\n",
       "      <th>percentage</th>\n",
       "    </tr>\n",
       "  </thead>\n",
       "  <tbody>\n",
       "    <tr>\n",
       "      <th>587</th>\n",
       "      <td>9262-NSM-602</td>\n",
       "      <td>0.799270</td>\n",
       "      <td>3</td>\n",
       "      <td>3.0</td>\n",
       "      <td>1.0</td>\n",
       "    </tr>\n",
       "    <tr>\n",
       "      <th>145</th>\n",
       "      <td>3704-KIAT-337</td>\n",
       "      <td>0.729118</td>\n",
       "      <td>11</td>\n",
       "      <td>11.0</td>\n",
       "      <td>1.0</td>\n",
       "    </tr>\n",
       "    <tr>\n",
       "      <th>220</th>\n",
       "      <td>9804-RIO-341</td>\n",
       "      <td>0.812512</td>\n",
       "      <td>7</td>\n",
       "      <td>7.0</td>\n",
       "      <td>1.0</td>\n",
       "    </tr>\n",
       "  </tbody>\n",
       "</table>\n",
       "</div>"
      ],
      "text/plain": [
       "           prom_id  Average_Probability_OF_Cable_Failure  Total_Subscribers  \\\n",
       "587   9262-NSM-602                              0.799270                  3   \n",
       "145  3704-KIAT-337                              0.729118                 11   \n",
       "220   9804-RIO-341                              0.812512                  7   \n",
       "\n",
       "     Total_Positive_Predicted_Subscribers  percentage  \n",
       "587                                   3.0         1.0  \n",
       "145                                  11.0         1.0  \n",
       "220                                   7.0         1.0  "
      ]
     },
     "execution_count": 33,
     "metadata": {},
     "output_type": "execute_result"
    }
   ],
   "source": [
    "kvs = kvs2df[(kvs2df['percentage'] >= 0.2) & (kvs2df['Total_Positive_Predicted_Subscribers'] > 2 )]\n",
    "print(len(kvs2df),len(kvs))\n",
    "# kvs.to_csv(dir_obj + 'pd_kvs.csv', sep='|', encoding='utf-8')\n",
    "\n",
    "kvs.sort_values(by=\"percentage\", ascending=False).head(3)\n"
   ]
  },
  {
   "cell_type": "markdown",
   "metadata": {},
   "source": [
    "<h1><a id=\"crisp_deployment\"></a>Deployment</h1>\n",
    "<a href=\"#initialize_use_case_asset\"> 0 Initialize Use Case</a> |\n",
    "<a href=\"#crisp_business_understanding\"> 1 Business Understanding </a>|\n",
    "<a href=\"#crisp_data_understanding\"> 2 Business Understanding </a>|\n",
    "<a href=\"#crisp_preparation\"> 3 Data Preparation </a>|\n",
    "<a href=\"#crisp_modeling\"> 4 Modeling </a>|\n",
    "<a href=\"#crisp_evaluation\"> 5 Evaluation </a>|\n",
    "<b>6 Deployment</b>"
   ]
  }
 ],
 "metadata": {
  "kernelspec": {
   "display_name": "Python 3",
   "language": "python",
   "name": "python3"
  },
  "language_info": {
   "codemirror_mode": {
    "name": "ipython",
    "version": 3
   },
   "file_extension": ".py",
   "mimetype": "text/x-python",
   "name": "python",
   "nbconvert_exporter": "python",
   "pygments_lexer": "ipython3",
   "version": "3.7.0"
  }
 },
 "nbformat": 4,
 "nbformat_minor": 2
}
